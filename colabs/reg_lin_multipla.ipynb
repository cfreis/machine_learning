{
  "nbformat": 4,
  "nbformat_minor": 0,
  "metadata": {
    "colab": {
      "provenance": [],
      "authorship_tag": "ABX9TyMGoZnXqi4A0h0dUkZPgL1H",
      "include_colab_link": true
    },
    "kernelspec": {
      "name": "python3",
      "display_name": "Python 3"
    },
    "language_info": {
      "name": "python"
    }
  },
  "cells": [
    {
      "cell_type": "markdown",
      "metadata": {
        "id": "view-in-github",
        "colab_type": "text"
      },
      "source": [
        "<a href=\"https://colab.research.google.com/github/cfreis/machine_learning/blob/colabs/colabs/reg_lin_multipla.ipynb\" target=\"_parent\"><img src=\"https://colab.research.google.com/assets/colab-badge.svg\" alt=\"Open In Colab\"/></a>"
      ]
    },
    {
      "cell_type": "markdown",
      "source": [
        "# Regressões\n",
        "Como visto no [módulo anterior](https://colab.research.google.com/drive/1KgLuBU10fCtw0gepcUyI63xVWi8FguCY?usp=sharing), uma regressão é uma técnica estatística que permite inferir o valor de uma variável dependente, baseando-se nos valores de uma ou mais variáveis independentes.\n",
        "\n",
        "Existem, assim três tipos básicos de regressões:\n",
        "* [Regressão linear simples;](https://colab.research.google.com/drive/1KgLuBU10fCtw0gepcUyI63xVWi8FguCY?usp=sharing)\n",
        "* Regressão linear múltipla;\n",
        "* [Regressão logística.](https://colab.research.google.com/drive/1AixN6GvAPY3U-JlR9PS-GbICACTeZwkC?usp=sharing)\n",
        "\n"
      ],
      "metadata": {
        "id": "HEbK_pL6fFQ8"
      }
    },
    {
      "cell_type": "markdown",
      "source": [
        "# Regressão linear múltipla\n",
        "\n",
        "Uma regressão linear é considerada múltipla quando tenta realizar suas previsões, não mais com uma única variável preditora, mas com um conjunto delas.\n",
        "\n",
        "<center><img src=\"https://drive.google.com/uc?export=download&id=1v9s1LSetZJwx4ZjT6SeOJItm4GZJvF7O\" width=\"200\">\n",
        "</center>\n",
        "\n",
        "Conforme o exemplo, podemos estimar o valor do salário de um funcionário (variável dependente) levando-se em consideração o número de horas trabalhadas, aescolaridade do funcionário e a experiência que ele possui, sendo estas três consideradas variáveis independentes.\n",
        "\n",
        "O objetivo ainda é encontrar uma equação de reta que minimize os erros ou resíduos. Só que desta vez serão utilizadas $n$ variáveis preditoras.\n",
        "\n",
        "<div style=\"text-align: center; margin-top: 10px; font-family: Arial, sans-serif;\">\n",
        "<img src = \"https://drive.google.com/uc?export=download&id=18drHfaG4ASLKjF9Tf0hrkpjgQFFstgNs\" width=600>\n",
        "    <p>Figura 1: Minimização do erro</p>\n",
        "</div>\n",
        "\n",
        "A equação geral de tal reta será\n",
        "\n",
        "$\n",
        "y = \\alpha +\\beta_1 x_1 +\\beta_2 x_2 \\cdots +\\beta_n x_n+ \\epsilon\\\\\n",
        "\\text{onde:}\\\\\n",
        "y \\text{ - variável dependente}\\\\\n",
        "x_i \\text{ - variáveis independentes}\\\\\n",
        "\\alpha \\text{ - constante ou intercept}\\\\\n",
        "\\beta_i \\text{ - coeficiente de cada variável}\\\\\n",
        "\\epsilon \\text{ - erro ou variação de y não explicada pelo modelo}\n",
        "$\n",
        "\n",
        "O $\\beta_i$ indica o quanto a variável $x_i$ influencia nas variações de $y$.\n"
      ],
      "metadata": {
        "id": "4cPntYEKdfaC"
      }
    },
    {
      "cell_type": "code",
      "execution_count": null,
      "metadata": {
        "id": "MoGBNKzUdZO1"
      },
      "outputs": [],
      "source": [
        "\n",
        "\n",
        "# import pandas as pd\n",
        "\n",
        "# # Create a DataFrame of coefficients (for multi-feature datasets)\n",
        "# coef_df = pd.DataFrame({\n",
        "#     \"Feature\": X_train.columns if hasattr(X_train, 'columns') else [f\"X{i}\" for i in range(X_train.shape[1])],\n",
        "#     \"Coefficient\": model.coef_\n",
        "# })\n",
        "# print(coef_df)"
      ]
    }
  ]
}