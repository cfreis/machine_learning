{
  "nbformat": 4,
  "nbformat_minor": 0,
  "metadata": {
    "colab": {
      "provenance": [],
      "toc_visible": true,
      "authorship_tag": "ABX9TyOoT7zCKb+bnlSnuLnM8tn8",
      "include_colab_link": true
    },
    "kernelspec": {
      "name": "python3",
      "display_name": "Python 3"
    },
    "language_info": {
      "name": "python"
    }
  },
  "cells": [
    {
      "cell_type": "markdown",
      "metadata": {
        "id": "view-in-github",
        "colab_type": "text"
      },
      "source": [
        "<a href=\"https://colab.research.google.com/github/cfreis/machine_learning/blob/colabs/colabs/reg_lin_multipla.ipynb\" target=\"_parent\"><img src=\"https://colab.research.google.com/assets/colab-badge.svg\" alt=\"Open In Colab\"/></a>"
      ]
    },
    {
      "cell_type": "markdown",
      "source": [
        "# Regressões\n",
        "Como visto no [módulo anterior](https://colab.research.google.com/drive/1KgLuBU10fCtw0gepcUyI63xVWi8FguCY?usp=sharing), uma regressão é uma técnica estatística que permite inferir o valor de uma variável dependente, baseando-se nos valores de uma ou mais variáveis independentes.\n",
        "\n",
        "Existem, assim três tipos básicos de regressões:\n",
        "* [Regressão linear simples;](https://colab.research.google.com/drive/1KgLuBU10fCtw0gepcUyI63xVWi8FguCY?usp=sharing)\n",
        "* Regressão linear múltipla;\n",
        "* [Regressão logística.](https://colab.research.google.com/drive/1AixN6GvAPY3U-JlR9PS-GbICACTeZwkC?usp=sharing)\n",
        "\n"
      ],
      "metadata": {
        "id": "HEbK_pL6fFQ8"
      }
    },
    {
      "cell_type": "markdown",
      "source": [
        "# Regressão linear múltipla\n",
        "\n",
        "Uma regressão linear é considerada múltipla quando tenta realizar suas previsões, não mais com uma única variável preditora, mas com um conjunto delas.\n",
        "\n",
        "<center><img src=\"https://drive.google.com/uc?export=download&id=1v9s1LSetZJwx4ZjT6SeOJItm4GZJvF7O\" width=\"200\">\n",
        "</center>\n",
        "\n",
        "Conforme o exemplo, podemos estimar o valor do salário de um funcionário (variável dependente) levando-se em consideração o número de horas trabalhadas, aescolaridade do funcionário e a experiência que ele possui, sendo estas três consideradas variáveis independentes.\n",
        "\n",
        "O objetivo ainda é encontrar uma equação de reta que minimize os erros ou resíduos. Só que desta vez serão utilizadas $n$ variáveis preditoras.\n",
        "\n",
        "<div style=\"text-align: center; margin-top: 10px; font-family: Arial, sans-serif;\">\n",
        "<img src = \"https://drive.google.com/uc?export=download&id=18drHfaG4ASLKjF9Tf0hrkpjgQFFstgNs\" width=600>\n",
        "    <p>Figura 1: Minimização do erro</p>\n",
        "</div>\n",
        "\n",
        "A equação geral de tal reta será\n",
        "\n",
        "$\n",
        "y = \\alpha +\\beta_1 x_1 +\\beta_2 x_2 + \\cdots +\\beta_n x_n+ \\epsilon\\\\\n",
        "\\text{onde:}\\\\\n",
        "y \\text{ - variável dependente}\\\\\n",
        "x_i \\text{ - variáveis independentes}\\\\\n",
        "\\alpha \\text{ - constante ou intercept}\\\\\n",
        "\\beta_i \\text{ - coeficiente de cada variável}\\\\\n",
        "\\epsilon \\text{ - erro ou variação de y não explicada pelo modelo}\n",
        "$\n",
        "\n",
        "O $\\beta_i$ indica o quanto a variável $x_i$ influencia nas variações de $y$.\n",
        "\n",
        "Assim como na regressão linear simples, a regressão lineal multipla, ou multivariada, também possui aluns pressupostos que devemos respeitar, sob pena de realizarmos predições inacuradas.\n"
      ],
      "metadata": {
        "id": "4cPntYEKdfaC"
      }
    },
    {
      "cell_type": "markdown",
      "source": [
        "## Pressupostos da Regressão Linear\n",
        "\n",
        "Como visto anteriormente, aqui também devemos analisar se nosso dataset e o modelo treinado, sertificando-se que se adequam aos pressupostos da regressão linear para que ela seja eficiente na realização de previsões.\n",
        "\n",
        "Os quatro primeiros são exatamente os mesmos da regressão linear simples e para maiores detalhes, consulte [esse notebook.](https://colab.research.google.com/drive/1KgLuBU10fCtw0gepcUyI63xVWi8FguCY?usp=sharing)"
      ],
      "metadata": {
        "id": "I0t-rr11dUG-"
      }
    },
    {
      "cell_type": "markdown",
      "source": [
        "### 1. Linearidade dos dados\n",
        "Como a regressão linear realiza previsões baseada em uma equação de reta, quanto mais linear for o dataset, maiores serão as chances de obtermos previsões acuradas."
      ],
      "metadata": {
        "id": "L0CgxkxmM0Nj"
      }
    },
    {
      "cell_type": "markdown",
      "source": [
        "### 2. Independência dos erros\n",
        "Cada erro, ou a diferença entre o observado e o previsto, deve ser independendo dos demais, não exercendo influência sobre os demais resíduos."
      ],
      "metadata": {
        "id": "raDqnKgndLPH"
      }
    },
    {
      "cell_type": "markdown",
      "source": [
        "### 3. Homocedasticidade dos erros\n",
        "Todos os resíduos devem ter variância semelhante."
      ],
      "metadata": {
        "id": "9j_9qwdXe4ra"
      }
    },
    {
      "cell_type": "markdown",
      "source": [
        "### 4. Normalidade na distribuição dos erros\n",
        "\n",
        "Os resíduos encontrados devem possuir uma distribuição normal próxima à normal."
      ],
      "metadata": {
        "id": "jZMvJvF8RQXn"
      }
    },
    {
      "cell_type": "markdown",
      "source": [
        "### 5. Não apresentar multicolinearidade de dados\n",
        "Como agora possuímos diversas variáveis independentes, é importante que estas variáveis sejam independentes entre si, não apresentando nenhuma correlação numérica quando observadas duas a duas.\n",
        "\n",
        "Isso significa que duas variáveis preditoras não podem aprentar covariância. Por exemplo, desejamos prever o valor de venda de um imóvel e escolhermos como variáveis independentes, dentre outras, a metragem quadrada do imóvel e o seu número de quartos. Na maioria dos casos, o acréscimo de um quarto na casa implica em um aumento na metragem quadrada dela, e vice-versa. Desta forma, metragem e número de quartos irão variar de forma conjunta em um grande número de casos.\n",
        "\n",
        "Essa correlação torna a determinação dos coeficientes das variáveis correlacionadas bastante difícil e imprecisa. Nestes casos, devemos modificar o set de variáveis preditoras de forma a evitar tais correlações.\n",
        "\n",
        "Uma forma eficiênte de determinar multicolinearidade é criar novas regressôes lineares para cada uma das variáveis independentes, tendo como preditores as demais variáveis.\n",
        "\n",
        "Assim, tome-se como base a regressão abaixo, cujos preditos são $\\hat{y}$\n",
        "\n",
        "$\n",
        "\\hat{y} = \\alpha +\\beta_1 x_1 +\\beta_2 x_2 +\\cdots +\\beta_n x_n\\\\\n",
        "$\n",
        "\n",
        "Cria-se uma nova regressão linear onde o preditor $x_1$ se tranforma em variável dependente das demais variáveis independentes\n",
        "\n",
        "$\n",
        "\\hat{x}_1 = a_1 +b_2 x_2 +b_3 x_3+ \\cdots +b_n x_n\\\\\n",
        "$\n",
        "\n",
        "Caso $\\hat{x}_1$ possa ser prevista com certa precisão, obter-se-á um $R^2$ elevado e confiável. Isso significa que a informação contida em $\\hat{x}_1$ já encontra-se inserida nas demais variáveis preditoras, podendo, assim, ser descartada.\n",
        "\n",
        "\n",
        "\n"
      ],
      "metadata": {
        "id": "OnjbVj7rS7Lg"
      }
    },
    {
      "cell_type": "markdown",
      "source": [
        "#### Cálculo do VIF e T\n",
        "O VIF (Variande Inflacion Factor) e o T (Tolerance) são duas métricas correlacionadas e que servem para determinar se as variáveis independentes possuem multicolinearidade.\n",
        "\n",
        "É realizado o cálculo de $R^2$ para cada variável independente em função das demais variáveis preditoras.\n",
        "\n",
        "$\n",
        "R_1^2 \\text{ em } \\hat{x}_1 =  a_1 +b_2 x_2 +b_3 x_3+ \\cdots +b_n x_n\\\\\n",
        "R_2^2 \\text{ em } \\hat{x}_2 =  a_2 +b_1 x_1 +b_3 x_3+ \\cdots +b_n x_n\\\\\n",
        "\\cdots\\\\\n",
        "R_{n}^2 \\text{ em } \\hat{x}_n =  a_n +b_1 x_1 +b_2 x_2+ \\cdots +b_{n-1} x_{n-1}\\\\\n",
        "$\n",
        "\n",
        "E determina-se o VIF\n",
        "\n",
        "$\n",
        "VIF_j = \\dfrac{1}{1-R_j^2}\\\\\n",
        "\\text{e}\\\\\n",
        "T_j = {1-R_j^2} = \\dfrac{1}{VIF_j}\n",
        "$\n",
        "\n",
        "Os resultados podem ser interpretados da seguinte forma:\n",
        "\n",
        "|VIF|T|\tMulticolinearidade|\n",
        "|---|---|---|\n",
        "|1|\t1|Nenhuma|\n",
        "|1 > V > 5| 0.2 < T < 1|\tModerada e aceitável|\n",
        "|VIF ≥ 5| T ≤ 0.2|\tAlta, podendo distorcer resultados|\n",
        "|VIF ≥ 10|T ≤\t0.1| Grave e exige ação|\n",
        "\n",
        "A biblioteca ```statsmodels.stats.outliers_influence``` implementa a função ```variance_inflation_factor``` que realiza a tarefa."
      ],
      "metadata": {
        "id": "vz7zYYjD7tnh"
      }
    },
    {
      "cell_type": "code",
      "source": [
        "import numpy as np\n",
        "import pandas as pd\n",
        "from statsmodels.stats.outliers_influence import variance_inflation_factor\n",
        "from statsmodels.tools.tools import add_constant\n",
        "\n",
        "def calculate_vif(X):\n",
        "  # Adicione uma constante (intercept) ao DataFrame\n",
        "  #X = add_constant(df)  # Inclui uma coluna de 1s para o intercepto\n",
        "\n",
        "  # Calcule VIF para cada variável\n",
        "  vif_data = pd.DataFrame()\n",
        "  vif_data[\"Variável\"] = X.columns\n",
        "  vif_data[\"VIF\"] = [variance_inflation_factor(X.values, i) for i in range(X.shape[1])]\n",
        "  vif_data[\"Tolerância\"] = 1 / vif_data[\"VIF\"]  # Tolerância = 1/VIF\n",
        "  vif_data[\"Resultado\"] = np.where(\n",
        "    vif_data[\"Tolerância\"] < 0.1,\n",
        "    \"Possível multicolinearidade\",\n",
        "    \"OK\")\n",
        "\n",
        "  print(vif_data)\n",
        "\n",
        "\n",
        "print('Com multicolinearidade')\n",
        "data_com = {\n",
        "    'X1': [1, 2, 3, 4, 5],\n",
        "    'X2': [2, 3, 5, 5, 6],\n",
        "    'X3': [10, 17,14, 2, 1]\n",
        "}\n",
        "calculate_vif(pd.DataFrame(data_com))\n",
        "\n",
        "print('\\nSem multicolinearidade')\n",
        "\n",
        "data_sem = {\n",
        "    'V1': [1, 22, 3, 48, 5],\n",
        "    'V2': [2, 3, 5, 5, 6],\n",
        "    'V3': [10, 17,14, 2, 1]\n",
        "}\n",
        "calculate_vif(pd.DataFrame(data_sem))\n",
        "\n"
      ],
      "metadata": {
        "id": "M41KoE0QcDAt",
        "colab": {
          "base_uri": "https://localhost:8080/"
        },
        "outputId": "31dde08b-4e6b-455f-ec1a-370963b00553"
      },
      "execution_count": 6,
      "outputs": [
        {
          "output_type": "stream",
          "name": "stdout",
          "text": [
            "Com multicolinearidade\n",
            "  Variável         VIF  Tolerância                    Resultado\n",
            "0       X1  158.380672    0.006314  Possível multicolinearidade\n",
            "1       X2  191.253071    0.005229  Possível multicolinearidade\n",
            "2       X3    5.837598    0.171303                           OK\n",
            "\n",
            "Sem multicolinearidade\n",
            "  Variável       VIF  Tolerância Resultado\n",
            "0       V1  1.808263    0.553017        OK\n",
            "1       V2  2.606815    0.383610        OK\n",
            "2       V3  1.733601    0.576834        OK\n"
          ]
        }
      ]
    },
    {
      "cell_type": "code",
      "execution_count": null,
      "metadata": {
        "id": "MoGBNKzUdZO1"
      },
      "outputs": [],
      "source": [
        "###\n",
        "\n",
        "# import pandas as pd\n",
        "\n",
        "# # Create a DataFrame of coefficients (for multi-feature datasets)\n",
        "# coef_df = pd.DataFrame({\n",
        "#     \"Feature\": X_train.columns if hasattr(X_train, 'columns') else [f\"X{i}\" for i in range(X_train.shape[1])],\n",
        "#     \"Coefficient\": model.coef_\n",
        "# })\n",
        "# print(coef_df)"
      ]
    }
  ]
}