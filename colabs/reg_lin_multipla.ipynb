{
  "nbformat": 4,
  "nbformat_minor": 0,
  "metadata": {
    "colab": {
      "provenance": [],
      "toc_visible": true,
      "authorship_tag": "ABX9TyOH+JrgSzFgRLCAKZPdRdn6",
      "include_colab_link": true
    },
    "kernelspec": {
      "name": "python3",
      "display_name": "Python 3"
    },
    "language_info": {
      "name": "python"
    }
  },
  "cells": [
    {
      "cell_type": "markdown",
      "metadata": {
        "id": "view-in-github",
        "colab_type": "text"
      },
      "source": [
        "<a href=\"https://colab.research.google.com/github/cfreis/machine_learning/blob/colabs/colabs/reg_lin_multipla.ipynb\" target=\"_parent\"><img src=\"https://colab.research.google.com/assets/colab-badge.svg\" alt=\"Open In Colab\"/></a>"
      ]
    },
    {
      "cell_type": "markdown",
      "source": [
        "# Regressões\n",
        "Como visto no [módulo anterior](https://colab.research.google.com/drive/1KgLuBU10fCtw0gepcUyI63xVWi8FguCY?usp=sharing), uma regressão é uma técnica estatística que permite inferir o valor de uma variável dependente, baseando-se nos valores de uma ou mais variáveis independentes.\n",
        "\n",
        "Existem, assim três tipos básicos de regressões:\n",
        "* [Regressão linear simples;](https://colab.research.google.com/drive/1KgLuBU10fCtw0gepcUyI63xVWi8FguCY?usp=sharing)\n",
        "* Regressão linear múltipla;\n",
        "* [Regressão logística.](https://colab.research.google.com/drive/1AixN6GvAPY3U-JlR9PS-GbICACTeZwkC?usp=sharing)\n",
        "\n"
      ],
      "metadata": {
        "id": "HEbK_pL6fFQ8"
      }
    },
    {
      "cell_type": "markdown",
      "source": [
        "# Regressão linear múltipla\n",
        "\n",
        "Uma regressão linear é considerada múltipla quando tenta realizar suas previsões, não mais com uma única variável preditora, mas com um conjunto delas.\n",
        "\n",
        "<center><img src=\"https://drive.google.com/uc?export=download&id=1v9s1LSetZJwx4ZjT6SeOJItm4GZJvF7O\" width=\"200\">\n",
        "</center>\n",
        "\n",
        "Conforme o exemplo, podemos estimar o valor do salário de um funcionário (variável dependente) levando-se em consideração o número de horas trabalhadas, aescolaridade do funcionário e a experiência que ele possui, sendo estas três consideradas variáveis independentes.\n",
        "\n",
        "O objetivo ainda é encontrar uma equação de reta que minimize os erros ou resíduos. Só que desta vez serão utilizadas $n$ variáveis preditoras.\n",
        "\n",
        "<div style=\"text-align: center; margin-top: 10px; font-family: Arial, sans-serif;\">\n",
        "<img src = \"https://drive.google.com/uc?export=download&id=18drHfaG4ASLKjF9Tf0hrkpjgQFFstgNs\" width=600>\n",
        "    <p>Figura 1: Minimização do erro</p>\n",
        "</div>\n",
        "\n",
        "A equação geral de tal reta será\n",
        "\n",
        "$\n",
        "y = \\alpha +\\beta_1 x_1 +\\beta_2 x_2 + \\cdots +\\beta_n x_n+ \\epsilon\\\\\n",
        "\\text{onde:}\\\\\n",
        "y \\text{ - variável dependente}\\\\\n",
        "x_i \\text{ - variáveis independentes}\\\\\n",
        "\\alpha \\text{ - constante ou intercept}\\\\\n",
        "\\beta_i \\text{ - coeficiente de cada variável}\\\\\n",
        "\\epsilon \\text{ - erro ou variação de y não explicada pelo modelo}\n",
        "$\n",
        "\n",
        "O $\\beta_i$ indica o quanto a variável $x_i$ influencia nas variações de $y$.\n",
        "\n",
        "Assim como na regressão linear simples, a regressão lineal multipla, ou multivariada, também possui aluns pressupostos que devemos respeitar, sob pena de realizarmos predições inacuradas.\n"
      ],
      "metadata": {
        "id": "4cPntYEKdfaC"
      }
    },
    {
      "cell_type": "markdown",
      "source": [
        "## Pressupostos da Regressão Linear\n",
        "\n",
        "Como visto anteriormente, aqui também devemos analisar se nosso dataset e o modelo treinado, sertificando-se que se adequam aos pressupostos da regressão linear para que ela seja eficiente na realização de previsões.\n",
        "\n",
        "Os quatro primeiros são exatamente os mesmos da regressão linear simples e para maiores detalhes, consulte [esse notebook.](https://colab.research.google.com/drive/1KgLuBU10fCtw0gepcUyI63xVWi8FguCY?usp=sharing)"
      ],
      "metadata": {
        "id": "I0t-rr11dUG-"
      }
    },
    {
      "cell_type": "markdown",
      "source": [
        "### 1. Linearidade dos dados\n",
        "Como a regressão linear realiza previsões baseada em uma equação de reta, quanto mais linear for o dataset, maiores serão as chances de obtermos previsões acuradas."
      ],
      "metadata": {
        "id": "L0CgxkxmM0Nj"
      }
    },
    {
      "cell_type": "markdown",
      "source": [
        "### 2. Independência dos erros\n",
        "Cada erro, ou a diferença entre o observado e o previsto, deve ser independendo dos demais, não exercendo influência sobre os demais resíduos."
      ],
      "metadata": {
        "id": "raDqnKgndLPH"
      }
    },
    {
      "cell_type": "markdown",
      "source": [
        "### 3. Homocedasticidade dos erros\n",
        "Todos os resíduos devem ter variância semelhante."
      ],
      "metadata": {
        "id": "9j_9qwdXe4ra"
      }
    },
    {
      "cell_type": "markdown",
      "source": [
        "### 4. Normalidade na distribuição dos erros\n",
        "\n",
        "Os resíduos encontrados devem possuir uma distribuição normal próxima à normal."
      ],
      "metadata": {
        "id": "jZMvJvF8RQXn"
      }
    },
    {
      "cell_type": "markdown",
      "source": [
        "### 5. Não apresentar multicolinearidade de dados\n",
        "Como agora possuímos diversas variáveis independentes, é importante que estas variáveis sejam independentes entre si, não apresentando nenhuma correlação numérica quando observadas duas a duas.\n",
        "\n",
        "Isso significa que duas variáveis preditoras não podem aprentar covariância. Por exemplo, desejamos prever o valor de venda de um imóvel e escolhermos como variáveis independentes, dentre outras, a metragem quadrada do imóvel e o seu número de quartos. Na maioria dos casos, o acréscimo de um quarto na casa implica em um aumento na metragem quadrada dela, e vice-versa. Desta forma, metragem e número de quartos irão variar de forma conjunta em um grande número de casos.\n",
        "\n",
        "Essa correlação torna a determinação dos coeficientes das variáveis correlacionadas bastante difícil e imprecisa. Nestes casos, devemos modificar o set de variáveis preditoras de forma a evitar tais correlações.\n",
        "\n",
        "Uma forma eficiênte de determinar multicolinearidade é criar novas regressôes lineares para cada uma das variáveis independentes, tendo como preditores as demais variáveis.\n",
        "\n",
        "Assim, tome-se como base a regressão abaixo, cujos preditos são $\\hat{y}$\n",
        "\n",
        "$\n",
        "\\hat{y} = \\alpha +\\beta_1 x_1 +\\beta_2 x_2 +\\cdots +\\beta_n x_n+ \\epsilon\\\\\n",
        "$\n",
        "\n",
        "Cria-se uma nova regressão linear onde o preditor $x_1$ se tranforma em variável dependente das demais variáveis independentes\n",
        "\n",
        "$\n",
        "\\hat{x}_1 = a_1 +b_2 x_2 +b3 x_3+ \\cdots +b_n x_n+ \\epsilon_1\\\\\n",
        "$\n",
        "\n",
        "Caso $\\hat{x}_1$ possa ser prevista com certa precisão, obter-se-á um $R^2$ elevado e confiável. Isso significa que a informação contida em $\\hat{x}_1$ já encontra-se inserida nas demais variáveis preditoras, podendo, assim, ser descartada. E o processo se repete\n",
        "\n",
        "$\n",
        "\\hat{x}_2 = a_2 +b_3 x_3 +b_4 x_4+ \\cdots +b_n x_n+ \\epsilon_2\\\\\n",
        "⋯ \\\\\n",
        "\\hat{x}_{n-1} = \\alpha_{n-1} +b_n x_n+ \\epsilon_{n-1}\\\\\n",
        "$\n",
        "\n",
        "\n",
        "\n"
      ],
      "metadata": {
        "id": "OnjbVj7rS7Lg"
      }
    },
    {
      "cell_type": "code",
      "source": [
        "\n",
        "\n",
        "import pandas as pd\n",
        "from statsmodels.stats.outliers_influence import variance_inflation_factor\n",
        "from statsmodels.tools.tools import add_constant\n",
        "\n",
        "# Suponha que você tenha um DataFrame com as variáveis independentes (X)\n",
        "# Exemplo:\n",
        "data = {\n",
        "    'X1': [1, 2, 3, 4, 5],\n",
        "    'X2': [2, 3, 5, 5, 6],\n",
        "    'X3': [10, 17,14, 2, 1]\n",
        "}\n",
        "df = pd.DataFrame(data)\n",
        "\n",
        "# Adicione uma constante (intercepto) ao DataFrame\n",
        "X = add_constant(df)  # Inclui uma coluna de 1s para o intercepto\n",
        "\n",
        "# Calcule VIF para cada variável\n",
        "vif_data = pd.DataFrame()\n",
        "vif_data[\"Variável\"] = X.columns\n",
        "vif_data[\"VIF\"] = [variance_inflation_factor(X.values, i) for i in range(X.shape[1])]\n",
        "vif_data[\"Tolerância\"] = 1 / vif_data[\"VIF\"]  # Tolerância = 1/VIF\n",
        "\n",
        "print(vif_data)\n"
      ],
      "metadata": {
        "colab": {
          "base_uri": "https://localhost:8080/"
        },
        "id": "M41KoE0QcDAt",
        "outputId": "387268bb-9823-4721-84be-a1d32fa06d66"
      },
      "execution_count": 1,
      "outputs": [
        {
          "output_type": "stream",
          "name": "stdout",
          "text": [
            "  Variável        VIF  Tolerância\n",
            "0    const  24.384359    0.041010\n",
            "1       X1  29.480033    0.033921\n",
            "2       X2  21.092346    0.047411\n",
            "3       X3   3.374376    0.296351\n"
          ]
        }
      ]
    },
    {
      "cell_type": "code",
      "execution_count": null,
      "metadata": {
        "id": "MoGBNKzUdZO1"
      },
      "outputs": [],
      "source": [
        "###\n",
        "\n",
        "# import pandas as pd\n",
        "\n",
        "# # Create a DataFrame of coefficients (for multi-feature datasets)\n",
        "# coef_df = pd.DataFrame({\n",
        "#     \"Feature\": X_train.columns if hasattr(X_train, 'columns') else [f\"X{i}\" for i in range(X_train.shape[1])],\n",
        "#     \"Coefficient\": model.coef_\n",
        "# })\n",
        "# print(coef_df)"
      ]
    }
  ]
}